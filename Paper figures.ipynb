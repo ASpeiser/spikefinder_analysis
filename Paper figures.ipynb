{
 "cells": [
  {
   "cell_type": "code",
   "execution_count": 10,
   "metadata": {
    "collapsed": true
   },
   "outputs": [],
   "source": [
    "import pandas as pd\n",
    "import numpy as np\n",
    "import seaborn as sns\n",
    "import matplotlib.pyplot as plt\n",
    "from datetime import date\n",
    "import spikefinder_eval as se\n",
    "\n",
    "import scipy.stats as stats\n",
    "\n",
    "sns.set_style('whitegrid')\n",
    "\n",
    "import matplotlib as mpl\n",
    "mpl.rcParams['pdf.fonttype'] = 42\n",
    "\n",
    "%matplotlib inline"
   ]
  },
  {
   "cell_type": "code",
   "execution_count": 11,
   "metadata": {
    "collapsed": true
   },
   "outputs": [],
   "source": [
    "data = pd.read_csv('data/results_30_06_17.csv', \n",
    "                   usecols=['algo', 'dset', 'measure', 'split', 'value', \n",
    "                           'rel value','cell'])\n",
    "\n",
    "\n",
    "subs = pd.read_csv('data/submissions_22_06_17.csv')\n"
   ]
  },
  {
   "cell_type": "code",
   "execution_count": 12,
   "metadata": {
    "collapsed": true
   },
   "outputs": [],
   "source": [
    "subs['days'] = np.float64(subs['days']) - 24\n",
    "\n"
   ]
  },
  {
   "cell_type": "code",
   "execution_count": 13,
   "metadata": {},
   "outputs": [],
   "source": [
    "data.loc[data['dset']==1,'indicator'] = 'ogb'\n",
    "data.loc[data['dset']==2,'indicator'] = 'ogb'\n",
    "data.loc[data['dset']==4,'indicator'] = 'ogb'\n",
    "data.loc[data['dset']==3,'indicator'] = 'gcamp'\n",
    "data.loc[data['dset']==5,'indicator'] = 'gcamp'"
   ]
  },
  {
   "cell_type": "code",
   "execution_count": 14,
   "metadata": {},
   "outputs": [
    {
     "data": {
      "text/html": [
       "<div>\n",
       "<style>\n",
       "    .dataframe thead tr:only-child th {\n",
       "        text-align: right;\n",
       "    }\n",
       "\n",
       "    .dataframe thead th {\n",
       "        text-align: left;\n",
       "    }\n",
       "\n",
       "    .dataframe tbody tr th {\n",
       "        vertical-align: top;\n",
       "    }\n",
       "</style>\n",
       "<table border=\"1\" class=\"dataframe\">\n",
       "  <thead>\n",
       "    <tr style=\"text-align: right;\">\n",
       "      <th></th>\n",
       "      <th>algo</th>\n",
       "      <th>cell</th>\n",
       "      <th>dset</th>\n",
       "      <th>measure</th>\n",
       "      <th>rel value</th>\n",
       "      <th>split</th>\n",
       "      <th>value</th>\n",
       "      <th>indicator</th>\n",
       "    </tr>\n",
       "  </thead>\n",
       "  <tbody>\n",
       "    <tr>\n",
       "      <th>0</th>\n",
       "      <td>stm</td>\n",
       "      <td>0</td>\n",
       "      <td>1</td>\n",
       "      <td>corr</td>\n",
       "      <td>NaN</td>\n",
       "      <td>test</td>\n",
       "      <td>0.524731</td>\n",
       "      <td>ogb</td>\n",
       "    </tr>\n",
       "    <tr>\n",
       "      <th>1</th>\n",
       "      <td>stm</td>\n",
       "      <td>1</td>\n",
       "      <td>1</td>\n",
       "      <td>corr</td>\n",
       "      <td>NaN</td>\n",
       "      <td>test</td>\n",
       "      <td>0.486117</td>\n",
       "      <td>ogb</td>\n",
       "    </tr>\n",
       "    <tr>\n",
       "      <th>2</th>\n",
       "      <td>stm</td>\n",
       "      <td>2</td>\n",
       "      <td>1</td>\n",
       "      <td>corr</td>\n",
       "      <td>NaN</td>\n",
       "      <td>test</td>\n",
       "      <td>0.454547</td>\n",
       "      <td>ogb</td>\n",
       "    </tr>\n",
       "    <tr>\n",
       "      <th>3</th>\n",
       "      <td>stm</td>\n",
       "      <td>3</td>\n",
       "      <td>1</td>\n",
       "      <td>corr</td>\n",
       "      <td>NaN</td>\n",
       "      <td>test</td>\n",
       "      <td>0.512064</td>\n",
       "      <td>ogb</td>\n",
       "    </tr>\n",
       "    <tr>\n",
       "      <th>4</th>\n",
       "      <td>stm</td>\n",
       "      <td>4</td>\n",
       "      <td>1</td>\n",
       "      <td>corr</td>\n",
       "      <td>NaN</td>\n",
       "      <td>test</td>\n",
       "      <td>0.560148</td>\n",
       "      <td>ogb</td>\n",
       "    </tr>\n",
       "    <tr>\n",
       "      <th>5</th>\n",
       "      <td>stm</td>\n",
       "      <td>0</td>\n",
       "      <td>1</td>\n",
       "      <td>corr_bits</td>\n",
       "      <td>NaN</td>\n",
       "      <td>test</td>\n",
       "      <td>0.464629</td>\n",
       "      <td>ogb</td>\n",
       "    </tr>\n",
       "    <tr>\n",
       "      <th>6</th>\n",
       "      <td>stm</td>\n",
       "      <td>1</td>\n",
       "      <td>1</td>\n",
       "      <td>corr_bits</td>\n",
       "      <td>NaN</td>\n",
       "      <td>test</td>\n",
       "      <td>0.388941</td>\n",
       "      <td>ogb</td>\n",
       "    </tr>\n",
       "    <tr>\n",
       "      <th>7</th>\n",
       "      <td>stm</td>\n",
       "      <td>2</td>\n",
       "      <td>1</td>\n",
       "      <td>corr_bits</td>\n",
       "      <td>NaN</td>\n",
       "      <td>test</td>\n",
       "      <td>0.333904</td>\n",
       "      <td>ogb</td>\n",
       "    </tr>\n",
       "    <tr>\n",
       "      <th>8</th>\n",
       "      <td>stm</td>\n",
       "      <td>3</td>\n",
       "      <td>1</td>\n",
       "      <td>corr_bits</td>\n",
       "      <td>NaN</td>\n",
       "      <td>test</td>\n",
       "      <td>0.438718</td>\n",
       "      <td>ogb</td>\n",
       "    </tr>\n",
       "    <tr>\n",
       "      <th>9</th>\n",
       "      <td>stm</td>\n",
       "      <td>4</td>\n",
       "      <td>1</td>\n",
       "      <td>corr_bits</td>\n",
       "      <td>NaN</td>\n",
       "      <td>test</td>\n",
       "      <td>0.543227</td>\n",
       "      <td>ogb</td>\n",
       "    </tr>\n",
       "  </tbody>\n",
       "</table>\n",
       "</div>"
      ],
      "text/plain": [
       "  algo  cell  dset    measure  rel value split     value indicator\n",
       "0  stm     0     1       corr        NaN  test  0.524731       ogb\n",
       "1  stm     1     1       corr        NaN  test  0.486117       ogb\n",
       "2  stm     2     1       corr        NaN  test  0.454547       ogb\n",
       "3  stm     3     1       corr        NaN  test  0.512064       ogb\n",
       "4  stm     4     1       corr        NaN  test  0.560148       ogb\n",
       "5  stm     0     1  corr_bits        NaN  test  0.464629       ogb\n",
       "6  stm     1     1  corr_bits        NaN  test  0.388941       ogb\n",
       "7  stm     2     1  corr_bits        NaN  test  0.333904       ogb\n",
       "8  stm     3     1  corr_bits        NaN  test  0.438718       ogb\n",
       "9  stm     4     1  corr_bits        NaN  test  0.543227       ogb"
      ]
     },
     "execution_count": 14,
     "metadata": {},
     "output_type": "execute_result"
    }
   ],
   "source": [
    "data.head(10)"
   ]
  },
  {
   "cell_type": "code",
   "execution_count": 15,
   "metadata": {},
   "outputs": [
    {
     "data": {
      "text/html": [
       "<div>\n",
       "<style>\n",
       "    .dataframe thead tr:only-child th {\n",
       "        text-align: right;\n",
       "    }\n",
       "\n",
       "    .dataframe thead th {\n",
       "        text-align: left;\n",
       "    }\n",
       "\n",
       "    .dataframe tbody tr th {\n",
       "        vertical-align: top;\n",
       "    }\n",
       "</style>\n",
       "<table border=\"1\" class=\"dataframe\">\n",
       "  <thead>\n",
       "    <tr style=\"text-align: right;\">\n",
       "      <th></th>\n",
       "      <th>Unnamed: 0</th>\n",
       "      <th>algo</th>\n",
       "      <th>date</th>\n",
       "      <th>days</th>\n",
       "      <th>submitter</th>\n",
       "      <th>test_mean</th>\n",
       "      <th>test_wmean</th>\n",
       "      <th>train_mean</th>\n",
       "      <th>train_wmean</th>\n",
       "      <th>delta_stm</th>\n",
       "    </tr>\n",
       "  </thead>\n",
       "  <tbody>\n",
       "    <tr>\n",
       "      <th>0</th>\n",
       "      <td>0</td>\n",
       "      <td>stm</td>\n",
       "      <td>2016-11-25 02:33:35.196</td>\n",
       "      <td>0.0</td>\n",
       "      <td>test submission</td>\n",
       "      <td>0.387497</td>\n",
       "      <td>0.388992</td>\n",
       "      <td>0.413346</td>\n",
       "      <td>0.420325</td>\n",
       "      <td>0.000000</td>\n",
       "    </tr>\n",
       "    <tr>\n",
       "      <th>1</th>\n",
       "      <td>1</td>\n",
       "      <td>oopsi</td>\n",
       "      <td>2016-11-25 02:36:37.119</td>\n",
       "      <td>0.0</td>\n",
       "      <td>test submission</td>\n",
       "      <td>0.258987</td>\n",
       "      <td>0.249635</td>\n",
       "      <td>0.318677</td>\n",
       "      <td>0.326346</td>\n",
       "      <td>-0.128510</td>\n",
       "    </tr>\n",
       "    <tr>\n",
       "      <th>2</th>\n",
       "      <td>2</td>\n",
       "      <td>derivative</td>\n",
       "      <td>2016-11-27 09:04:02.070</td>\n",
       "      <td>2.0</td>\n",
       "      <td>test submission</td>\n",
       "      <td>0.103576</td>\n",
       "      <td>0.115694</td>\n",
       "      <td>0.120749</td>\n",
       "      <td>0.123729</td>\n",
       "      <td>-0.283921</td>\n",
       "    </tr>\n",
       "    <tr>\n",
       "      <th>3</th>\n",
       "      <td>3</td>\n",
       "      <td>Suite2p</td>\n",
       "      <td>2016-12-04 19:15:26.173</td>\n",
       "      <td>9.0</td>\n",
       "      <td>marius10p</td>\n",
       "      <td>0.423142</td>\n",
       "      <td>0.428679</td>\n",
       "      <td>0.467852</td>\n",
       "      <td>0.471965</td>\n",
       "      <td>0.035645</td>\n",
       "    </tr>\n",
       "    <tr>\n",
       "      <th>4</th>\n",
       "      <td>4</td>\n",
       "      <td>Vanilla_0.0a</td>\n",
       "      <td>2017-01-31 04:10:09.410</td>\n",
       "      <td>67.0</td>\n",
       "      <td>Dario Ringach</td>\n",
       "      <td>0.422702</td>\n",
       "      <td>0.428309</td>\n",
       "      <td>0.462818</td>\n",
       "      <td>0.454570</td>\n",
       "      <td>0.035205</td>\n",
       "    </tr>\n",
       "  </tbody>\n",
       "</table>\n",
       "</div>"
      ],
      "text/plain": [
       "   Unnamed: 0          algo                     date  days        submitter  \\\n",
       "0           0           stm  2016-11-25 02:33:35.196   0.0  test submission   \n",
       "1           1         oopsi  2016-11-25 02:36:37.119   0.0  test submission   \n",
       "2           2    derivative  2016-11-27 09:04:02.070   2.0  test submission   \n",
       "3           3       Suite2p  2016-12-04 19:15:26.173   9.0        marius10p   \n",
       "4           4  Vanilla_0.0a  2017-01-31 04:10:09.410  67.0    Dario Ringach   \n",
       "\n",
       "   test_mean  test_wmean  train_mean  train_wmean  delta_stm  \n",
       "0   0.387497    0.388992    0.413346     0.420325   0.000000  \n",
       "1   0.258987    0.249635    0.318677     0.326346  -0.128510  \n",
       "2   0.103576    0.115694    0.120749     0.123729  -0.283921  \n",
       "3   0.423142    0.428679    0.467852     0.471965   0.035645  \n",
       "4   0.422702    0.428309    0.462818     0.454570   0.035205  "
      ]
     },
     "execution_count": 15,
     "metadata": {},
     "output_type": "execute_result"
    }
   ],
   "source": [
    "subs.head()"
   ]
  },
  {
   "cell_type": "markdown",
   "metadata": {},
   "source": [
    "## Figure 1\n",
    "\n",
    "* Submission times\n",
    "* Example predictions\n",
    "* Violinplots of performance / relative to stm?\n",
    "* For different datasets\n",
    "* Analysis of overfitting?\n",
    "\n"
   ]
  },
  {
   "cell_type": "markdown",
   "metadata": {},
   "source": [
    "### Panel a"
   ]
  },
  {
   "cell_type": "code",
   "execution_count": 16,
   "metadata": {},
   "outputs": [
    {
     "name": "stdout",
     "output_type": "stream",
     "text": [
      "Number of submissions:  39\n"
     ]
    },
    {
     "data": {
      "image/png": "[encoded data removed]",
      "text/plain": [
       "<matplotlib.figure.Figure at 0xba392b0>"
      ]
     },
     "metadata": {},
     "output_type": "display_data"
    }
   ],
   "source": [
    "f = plt.figure(figsize=(3/2.54,6/2.54))\n",
    "\n",
    "subs2 = subs.loc[~(subs['algo'] == 'stm') & ~(subs['algo'] == 'oopsi'),:]\n",
    "\n",
    "plt.hist(subs2['days'])\n",
    "\n",
    "plt.xlabel('Days')\n",
    "plt.ylabel('Number of submissions')\n",
    "\n",
    "plt.xticks([0, 50, 100, 150])\n",
    "\n",
    "plt.xlim((0,160))\n",
    "\n",
    "sns.despine(offset=5)\n",
    "\n",
    "f.savefig('figures/fig1a_date.pdf',bbox_inches='tight')\n",
    "\n",
    "print('Number of submissions: ', subs2.shape[0])"
   ]
  },
  {
   "cell_type": "code",
   "execution_count": 17,
   "metadata": {
    "collapsed": true
   },
   "outputs": [],
   "source": [
    "# determine order of algorithms   \n",
    "gdata = data[data['measure']=='corr'].groupby(['algo', 'split'])['value','rel value'].mean().reset_index()\n",
    "gdata = gdata[gdata['split']=='test'].sort_values(by='value', ascending=0)\n",
    "\n",
    "order = gdata['algo'].as_matrix()"
   ]
  },
  {
   "cell_type": "markdown",
   "metadata": {},
   "source": [
    "### Panel 1b: Mean correlation coefficients"
   ]
  },
  {
   "cell_type": "code",
   "execution_count": 18,
   "metadata": {},
   "outputs": [
    {
     "data": {
      "image/png": "[encoded data removed]",
      "text/plain": [
       "<matplotlib.figure.Figure at 0xb63d780>"
      ]
     },
     "metadata": {},
     "output_type": "display_data"
    }
   ],
   "source": [
    "\n",
    "\n",
    "f = plt.figure(figsize=(8/2.54,6/2.54))\n",
    "\n",
    "idx = (data['split']=='test') & (data['measure']=='corr')\n",
    "\n",
    "ax = sns.swarmplot(data=data[idx], \n",
    "                   x='value', y='algo',hue='dset',\n",
    "                   order=order,palette=\"muted\", alpha=.7, size=2 , orient='h')\n",
    "\n",
    "sns.pointplot(data=data[idx], \n",
    "                   x='value', y='algo', estimator = np.mean, ci=False,\n",
    "                   order=order,color='k', join=False, markers='.',\n",
    "                legend_out=False, orient='h', scale=.7)\n",
    "\n",
    "ax.legend(loc='center left', bbox_to_anchor=(1, 0.5))\n",
    "\n",
    "plt.xlabel('Correlation on test set')\n",
    "plt.ylabel('Algorithm')\n",
    "plt.xlim((-.1, .7))\n",
    "plt.xticks([0, 0.25, 0.5, .75])\n",
    "\n",
    "sns.despine(offset=10)\n",
    "\n",
    "f.savefig('figures/fig1_correlation.pdf',bbox_inches='tight')\n"
   ]
  },
  {
   "cell_type": "markdown",
   "metadata": {},
   "source": [
    " For the relative correlation improvement, I compute\n",
    " \n",
    " $$ v_i^{algo} = c_i^{algo}-c_i^{stm}$$"
   ]
  },
  {
   "cell_type": "code",
   "execution_count": 22,
   "metadata": {},
   "outputs": [
    {
     "data": {
      "image/png": "[encoded data removed]",
      "text/plain": [
       "<matplotlib.figure.Figure at 0xcbdd160>"
      ]
     },
     "metadata": {},
     "output_type": "display_data"
    }
   ],
   "source": [
    "order2 = gdata['algo'].as_matrix()\n",
    "order2 = order2[order2!='stm'] \n",
    "\n",
    "f = plt.figure(figsize=(8/2.54,6/2.54))\n",
    "\n",
    "idx = (data['split']=='test') & (data['measure']=='corr') & (data['algo']!='stm')\n",
    "\n",
    "ax = sns.boxplot(data=data[idx], \n",
    "                   y='algo', x='rel value', hue='indicator',\n",
    "                    order=order2,palette=\"muted\", orient='h', linewidth=.5, fliersize=2)\n",
    "\n",
    "\n",
    "ax.legend(loc='center left', bbox_to_anchor=(1, 0.5))\n",
    "\n",
    "plt.xlabel('Correlation test set')\n",
    "plt.ylabel('Algorithm')\n",
    "\n",
    "plt.xlim((-.25,.35))\n",
    "\n",
    "sns.despine(offset=10)\n",
    "\n",
    "f.savefig('figures/fig1_correlation_imp.pdf',bbox_inches='tight')\n"
   ]
  },
  {
   "cell_type": "code",
   "execution_count": 14,
   "metadata": {},
   "outputs": [
    {
     "data": {
      "text/html": [
       "<div>\n",
       "<style>\n",
       "    .dataframe thead tr:only-child th {\n",
       "        text-align: right;\n",
       "    }\n",
       "\n",
       "    .dataframe thead th {\n",
       "        text-align: left;\n",
       "    }\n",
       "\n",
       "    .dataframe tbody tr th {\n",
       "        vertical-align: top;\n",
       "    }\n",
       "</style>\n",
       "<table border=\"1\" class=\"dataframe\">\n",
       "  <thead>\n",
       "    <tr style=\"text-align: right;\">\n",
       "      <th></th>\n",
       "      <th>algo</th>\n",
       "      <th>split</th>\n",
       "      <th>value</th>\n",
       "      <th>rel value</th>\n",
       "      <th>in bits</th>\n",
       "      <th>rel in bits</th>\n",
       "    </tr>\n",
       "  </thead>\n",
       "  <tbody>\n",
       "    <tr>\n",
       "      <th>2</th>\n",
       "      <td>deneux</td>\n",
       "      <td>test</td>\n",
       "      <td>0.438228</td>\n",
       "      <td>0.081036</td>\n",
       "      <td>0.307652</td>\n",
       "      <td>56.2</td>\n",
       "    </tr>\n",
       "    <tr>\n",
       "      <th>0</th>\n",
       "      <td>chenkov</td>\n",
       "      <td>test</td>\n",
       "      <td>0.437815</td>\n",
       "      <td>0.080623</td>\n",
       "      <td>0.307006</td>\n",
       "      <td>55.9</td>\n",
       "    </tr>\n",
       "    <tr>\n",
       "      <th>18</th>\n",
       "      <td>speiser</td>\n",
       "      <td>test</td>\n",
       "      <td>0.434734</td>\n",
       "      <td>0.077541</td>\n",
       "      <td>0.302214</td>\n",
       "      <td>53.5</td>\n",
       "    </tr>\n",
       "    <tr>\n",
       "      <th>8</th>\n",
       "      <td>mineault</td>\n",
       "      <td>test</td>\n",
       "      <td>0.432472</td>\n",
       "      <td>0.075280</td>\n",
       "      <td>0.298730</td>\n",
       "      <td>51.7</td>\n",
       "    </tr>\n",
       "    <tr>\n",
       "      <th>16</th>\n",
       "      <td>rupprecht</td>\n",
       "      <td>test</td>\n",
       "      <td>0.429115</td>\n",
       "      <td>0.071922</td>\n",
       "      <td>0.293605</td>\n",
       "      <td>49.1</td>\n",
       "    </tr>\n",
       "    <tr>\n",
       "      <th>4</th>\n",
       "      <td>friedrich</td>\n",
       "      <td>test</td>\n",
       "      <td>0.418848</td>\n",
       "      <td>0.061656</td>\n",
       "      <td>0.278293</td>\n",
       "      <td>41.3</td>\n",
       "    </tr>\n",
       "    <tr>\n",
       "      <th>12</th>\n",
       "      <td>pachitariu</td>\n",
       "      <td>test</td>\n",
       "      <td>0.396692</td>\n",
       "      <td>0.039499</td>\n",
       "      <td>0.247020</td>\n",
       "      <td>25.4</td>\n",
       "    </tr>\n",
       "    <tr>\n",
       "      <th>6</th>\n",
       "      <td>machado</td>\n",
       "      <td>test</td>\n",
       "      <td>0.379407</td>\n",
       "      <td>0.022214</td>\n",
       "      <td>0.224232</td>\n",
       "      <td>13.9</td>\n",
       "    </tr>\n",
       "    <tr>\n",
       "      <th>14</th>\n",
       "      <td>ringach</td>\n",
       "      <td>test</td>\n",
       "      <td>0.362944</td>\n",
       "      <td>0.005751</td>\n",
       "      <td>0.203781</td>\n",
       "      <td>3.5</td>\n",
       "    </tr>\n",
       "    <tr>\n",
       "      <th>20</th>\n",
       "      <td>stm</td>\n",
       "      <td>test</td>\n",
       "      <td>0.357193</td>\n",
       "      <td>NaN</td>\n",
       "      <td>0.196916</td>\n",
       "      <td>0.0</td>\n",
       "    </tr>\n",
       "    <tr>\n",
       "      <th>10</th>\n",
       "      <td>oopsi</td>\n",
       "      <td>test</td>\n",
       "      <td>0.253809</td>\n",
       "      <td>-0.109975</td>\n",
       "      <td>0.096066</td>\n",
       "      <td>-51.2</td>\n",
       "    </tr>\n",
       "  </tbody>\n",
       "</table>\n",
       "</div>"
      ],
      "text/plain": [
       "          algo split     value  rel value   in bits  rel in bits\n",
       "2       deneux  test  0.438228   0.081036  0.307652         56.2\n",
       "0      chenkov  test  0.437815   0.080623  0.307006         55.9\n",
       "18     speiser  test  0.434734   0.077541  0.302214         53.5\n",
       "8     mineault  test  0.432472   0.075280  0.298730         51.7\n",
       "16   rupprecht  test  0.429115   0.071922  0.293605         49.1\n",
       "4    friedrich  test  0.418848   0.061656  0.278293         41.3\n",
       "12  pachitariu  test  0.396692   0.039499  0.247020         25.4\n",
       "6      machado  test  0.379407   0.022214  0.224232         13.9\n",
       "14     ringach  test  0.362944   0.005751  0.203781          3.5\n",
       "20         stm  test  0.357193        NaN  0.196916          0.0\n",
       "10       oopsi  test  0.253809  -0.109975  0.096066        -51.2"
      ]
     },
     "execution_count": 14,
     "metadata": {},
     "output_type": "execute_result"
    }
   ],
   "source": [
    "hdata = data[data['measure']=='corr'].groupby(['algo', 'split'])['value','rel value'].mean().reset_index()\n",
    "hdata = hdata[hdata['split']=='test'].sort_values(by='value', ascending=0)\n",
    "hdata['in bits'] = -np.log2(1-hdata['value']**2)\n",
    "\n",
    "stm = hdata.loc[hdata['algo']=='stm','in bits'].as_matrix()\n",
    "hdata['rel in bits'] = np.round(100*(hdata['in bits'] - stm)/stm,1)\n",
    "\n",
    "hdata\n",
    "\n",
    "\n"
   ]
  },
  {
   "cell_type": "markdown",
   "metadata": {},
   "source": [
    "### Panel 1c: Repeated measure ANOVA"
   ]
  },
  {
   "cell_type": "code",
   "execution_count": 11,
   "metadata": {
    "collapsed": true
   },
   "outputs": [],
   "source": [
    "adata = data[(data['split']=='test')& (data['measure']=='corr')].copy()\n",
    "adata = adata[['algo', 'cell', 'dset', 'value']]"
   ]
  },
  {
   "cell_type": "code",
   "execution_count": 12,
   "metadata": {
    "collapsed": true
   },
   "outputs": [],
   "source": [
    "adata['ucell'] = adata['cell'] + adata['dset'] * 10"
   ]
  },
  {
   "cell_type": "code",
   "execution_count": 15,
   "metadata": {
    "collapsed": true
   },
   "outputs": [],
   "source": [
    "%load_ext rpy2.ipython"
   ]
  },
  {
   "cell_type": "code",
   "execution_count": 40,
   "metadata": {
    "collapsed": true
   },
   "outputs": [],
   "source": [
    "import rpy2.robjects as robjects\n",
    "import rpy2.robjects.packages as rpackages\n",
    "from rpy2.robjects.vectors import StrVector\n",
    "from rpy2.robjects.packages import importr\n",
    "from rpy2.robjects import r, pandas2ri\n",
    "\n",
    "pandas2ri.activate()"
   ]
  },
  {
   "cell_type": "code",
   "execution_count": 41,
   "metadata": {
    "collapsed": true
   },
   "outputs": [],
   "source": [
    "r_data = pandas2ri.py2ri(adata)"
   ]
  },
  {
   "cell_type": "code",
   "execution_count": 44,
   "metadata": {
    "scrolled": false
   },
   "outputs": [
    {
     "name": "stdout",
     "output_type": "stream",
     "text": [
      "Anova Table (Type 3 tests)\n",
      "\r\n",
      "\n",
      "\r\n",
      "Response: value\n",
      "\r\n",
      "  Effect           df  MSE         F ges p.value\n",
      "\r\n",
      "1   algo 5.12, 148.50 0.00 42.09 *** .14  <.0001\n",
      "\r\n",
      "\n",
      "\r\n",
      "Sphericity correction method: GG \n",
      "\n"
     ]
    }
   ],
   "source": [
    "afex = importr('afex') \n",
    "model = afex.aov_ez('ucell', 'value', r_data, within='algo')\n",
    "print(model)"
   ]
  },
  {
   "cell_type": "code",
   "execution_count": 45,
   "metadata": {
    "collapsed": true
   },
   "outputs": [],
   "source": [
    "lsm  = importr('lsmeans')\n",
    "pairwise = lsm.lsmeans(model, \"algo\", contr=\"pairwise\", adjust=\"holm\")\n",
    "# print(pairwise)"
   ]
  },
  {
   "cell_type": "code",
   "execution_count": 28,
   "metadata": {},
   "outputs": [
    {
     "data": {
      "image/png": "[encoded data removed]",
      "text/plain": [
       "<matplotlib.figure.Figure at 0xbb27d30>"
      ]
     },
     "metadata": {},
     "output_type": "display_data"
    }
   ],
   "source": [
    "pvalues = pd.read_excel('figures/pairwise_comp.xls')\n",
    "\n",
    "\n",
    "f = plt.figure(figsize=(8/2.54,6/2.54))\n",
    "\n",
    "sns.heatmap(pvalues, vmin=0, vmax=.2)\n",
    "\n",
    "#sns.despine(offset=10)\n",
    "\n",
    "f.savefig('figures/pairwise.pdf',bbox_inches='tight')\n"
   ]
  },
  {
   "cell_type": "markdown",
   "metadata": {},
   "source": [
    "## Figure 2: Example responses\n"
   ]
  },
  {
   "cell_type": "code",
   "execution_count": 9,
   "metadata": {},
   "outputs": [
    {
     "data": {
      "image/png": "[encoded data removed]",
      "text/plain": [
       "<matplotlib.figure.Figure at 0xb930128>"
      ]
     },
     "metadata": {},
     "output_type": "display_data"
    }
   ],
   "source": [
    "# here will be some spike trains\n",
    "\n",
    "algos =  ['stm','chenkov', 'deneux', 'friedrich', 'machado', 'mineault', \n",
    "               'pachitariu', 'ringach', 'rupprecht', 'speiser', 'oopsi']\n",
    "\n",
    "f = plt.figure(figsize=(5/2.54,10/2.54))\n",
    "\n",
    "# for paper 2 examples\n",
    "dset = '3.test'\n",
    "neuron = '2'\n",
    "tw = np.arange(2000,5000)\n",
    "\n",
    "#dset = '1.test'\n",
    "#neuron = '3'\n",
    "#tw = np.arange(14000,17000)\n",
    "\n",
    "t = np.round((tw[-1]-tw[0])/4)\n",
    "t =np.arange(0,t*25,25)/1000\n",
    "\n",
    "file = 'T:/data/spikefinder/truth/{}.spikes.csv'.format(dset)\n",
    "spikes = se._downsample(se.load(file).loc[tw,neuron].as_matrix(),4)\n",
    "\n",
    "file = 'T:/data/spikefinder/truth/{}.calcium.csv'.format(dset)\n",
    "calcium = se._downsample(se.load(file).loc[tw,neuron].as_matrix(),4)\n",
    "\n",
    "calcium = (calcium-np.min(calcium,axis=0))/(np.max(calcium,axis=0)-np.min(calcium,axis=0))\n",
    "\n",
    "sp = sns.color_palette()\n",
    "\n",
    "ax = plt.plot(t,.6*spikes-2.5,color='k', linewidth=.7)  \n",
    "plt.plot(t,2*calcium,color='k', linewidth=.4) \n",
    "\n",
    "ticks = np.zeros_like(order)\n",
    "lab = []\n",
    "\n",
    "for a, algo in enumerate(order): \n",
    "    file = 'T:/data/spikefinder/{}/{}.spikes.csv'.format(algo, dset)\n",
    "    pred = se.load(file)\n",
    "            \n",
    "    pred = se._downsample(pred.loc[tw,neuron].as_matrix(),4)\n",
    "    \n",
    "    id = (data['measure']==\n",
    "      'corr') & (data['dset']==\n",
    "                 np.int32(dset[0])) & (data['cell']==\n",
    "                                       np.int32(neuron)) & (data['split']==\n",
    "                                       'test') & (data['algo']==\n",
    "                                       algo) \n",
    "    \n",
    "    c = np.round(data.loc[id,'value'].as_matrix(),2)\n",
    "    \n",
    "    pred = (pred-np.min(pred,axis=0))/(np.max(pred,axis=0)-np.min(pred,axis=0))\n",
    "    \n",
    "    plt.plot(t,pred-1.2*a-4,color='k', linewidth=.4)\n",
    "    \n",
    "    ticks[a] = -1.2*a-4\n",
    "    \n",
    "    plt.text(1.05*plt.xlim()[1],-1.2*a-4, '{}'.format(c[0]))\n",
    "    \n",
    "    \n",
    "plt.yticks(ticks,order)\n",
    "plt.xticks([0, 5, 10, 15])\n",
    "plt.xlabel('Time (s)')\n",
    "\n",
    "sns.despine(offset=5)\n",
    "\n",
    "f.savefig('figures/fig1_gcamp_example.pdf',bbox_inches='tight', dpi=300)\n",
    "\n"
   ]
  },
  {
   "cell_type": "markdown",
   "metadata": {},
   "source": [
    "## Other Info"
   ]
  },
  {
   "cell_type": "markdown",
   "metadata": {},
   "source": [
    "### How many cells per dataset"
   ]
  },
  {
   "cell_type": "code",
   "execution_count": 53,
   "metadata": {},
   "outputs": [
    {
     "data": {
      "text/html": [
       "<div>\n",
       "<style>\n",
       "    .dataframe thead tr:only-child th {\n",
       "        text-align: right;\n",
       "    }\n",
       "\n",
       "    .dataframe thead th {\n",
       "        text-align: left;\n",
       "    }\n",
       "\n",
       "    .dataframe tbody tr th {\n",
       "        vertical-align: top;\n",
       "    }\n",
       "</style>\n",
       "<table border=\"1\" class=\"dataframe\">\n",
       "  <thead>\n",
       "    <tr style=\"text-align: right;\">\n",
       "      <th></th>\n",
       "      <th></th>\n",
       "      <th></th>\n",
       "      <th>cell</th>\n",
       "      <th>rel value</th>\n",
       "      <th>split</th>\n",
       "      <th>value</th>\n",
       "    </tr>\n",
       "    <tr>\n",
       "      <th>dset</th>\n",
       "      <th>algo</th>\n",
       "      <th>measure</th>\n",
       "      <th></th>\n",
       "      <th></th>\n",
       "      <th></th>\n",
       "      <th></th>\n",
       "    </tr>\n",
       "  </thead>\n",
       "  <tbody>\n",
       "    <tr>\n",
       "      <th rowspan=\"3\" valign=\"top\">1</th>\n",
       "      <th rowspan=\"3\" valign=\"top\">chenkov</th>\n",
       "      <th>corr</th>\n",
       "      <td>11</td>\n",
       "      <td>11</td>\n",
       "      <td>11</td>\n",
       "      <td>11</td>\n",
       "    </tr>\n",
       "    <tr>\n",
       "      <th>corr_bits</th>\n",
       "      <td>11</td>\n",
       "      <td>11</td>\n",
       "      <td>11</td>\n",
       "      <td>11</td>\n",
       "    </tr>\n",
       "    <tr>\n",
       "      <th>rank</th>\n",
       "      <td>11</td>\n",
       "      <td>11</td>\n",
       "      <td>11</td>\n",
       "      <td>11</td>\n",
       "    </tr>\n",
       "    <tr>\n",
       "      <th rowspan=\"3\" valign=\"top\">2</th>\n",
       "      <th rowspan=\"3\" valign=\"top\">chenkov</th>\n",
       "      <th>corr</th>\n",
       "      <td>21</td>\n",
       "      <td>21</td>\n",
       "      <td>21</td>\n",
       "      <td>21</td>\n",
       "    </tr>\n",
       "    <tr>\n",
       "      <th>corr_bits</th>\n",
       "      <td>21</td>\n",
       "      <td>21</td>\n",
       "      <td>21</td>\n",
       "      <td>21</td>\n",
       "    </tr>\n",
       "    <tr>\n",
       "      <th>rank</th>\n",
       "      <td>21</td>\n",
       "      <td>21</td>\n",
       "      <td>21</td>\n",
       "      <td>21</td>\n",
       "    </tr>\n",
       "    <tr>\n",
       "      <th rowspan=\"3\" valign=\"top\">3</th>\n",
       "      <th rowspan=\"3\" valign=\"top\">chenkov</th>\n",
       "      <th>corr</th>\n",
       "      <td>13</td>\n",
       "      <td>13</td>\n",
       "      <td>13</td>\n",
       "      <td>13</td>\n",
       "    </tr>\n",
       "    <tr>\n",
       "      <th>corr_bits</th>\n",
       "      <td>13</td>\n",
       "      <td>13</td>\n",
       "      <td>13</td>\n",
       "      <td>13</td>\n",
       "    </tr>\n",
       "    <tr>\n",
       "      <th>rank</th>\n",
       "      <td>13</td>\n",
       "      <td>13</td>\n",
       "      <td>13</td>\n",
       "      <td>13</td>\n",
       "    </tr>\n",
       "    <tr>\n",
       "      <th rowspan=\"3\" valign=\"top\">4</th>\n",
       "      <th rowspan=\"3\" valign=\"top\">chenkov</th>\n",
       "      <th>corr</th>\n",
       "      <td>6</td>\n",
       "      <td>6</td>\n",
       "      <td>6</td>\n",
       "      <td>6</td>\n",
       "    </tr>\n",
       "    <tr>\n",
       "      <th>corr_bits</th>\n",
       "      <td>6</td>\n",
       "      <td>6</td>\n",
       "      <td>6</td>\n",
       "      <td>6</td>\n",
       "    </tr>\n",
       "    <tr>\n",
       "      <th>rank</th>\n",
       "      <td>6</td>\n",
       "      <td>6</td>\n",
       "      <td>6</td>\n",
       "      <td>6</td>\n",
       "    </tr>\n",
       "    <tr>\n",
       "      <th rowspan=\"3\" valign=\"top\">5</th>\n",
       "      <th rowspan=\"3\" valign=\"top\">chenkov</th>\n",
       "      <th>corr</th>\n",
       "      <td>9</td>\n",
       "      <td>9</td>\n",
       "      <td>9</td>\n",
       "      <td>9</td>\n",
       "    </tr>\n",
       "    <tr>\n",
       "      <th>corr_bits</th>\n",
       "      <td>9</td>\n",
       "      <td>9</td>\n",
       "      <td>9</td>\n",
       "      <td>9</td>\n",
       "    </tr>\n",
       "    <tr>\n",
       "      <th>rank</th>\n",
       "      <td>9</td>\n",
       "      <td>9</td>\n",
       "      <td>9</td>\n",
       "      <td>9</td>\n",
       "    </tr>\n",
       "  </tbody>\n",
       "</table>\n",
       "</div>"
      ],
      "text/plain": [
       "                        cell  rel value  split  value\n",
       "dset algo    measure                                 \n",
       "1    chenkov corr         11         11     11     11\n",
       "             corr_bits    11         11     11     11\n",
       "             rank         11         11     11     11\n",
       "2    chenkov corr         21         21     21     21\n",
       "             corr_bits    21         21     21     21\n",
       "             rank         21         21     21     21\n",
       "3    chenkov corr         13         13     13     13\n",
       "             corr_bits    13         13     13     13\n",
       "             rank         13         13     13     13\n",
       "4    chenkov corr          6          6      6      6\n",
       "             corr_bits     6          6      6      6\n",
       "             rank          6          6      6      6\n",
       "5    chenkov corr          9          9      9      9\n",
       "             corr_bits     9          9      9      9\n",
       "             rank          9          9      9      9"
      ]
     },
     "execution_count": 53,
     "metadata": {},
     "output_type": "execute_result"
    }
   ],
   "source": [
    "data[(data['split']=='train') & (data['algo']=='chenkov')].groupby(['dset','algo','measure']).count()"
   ]
  }
 ],
 "metadata": {
  "kernelspec": {
   "display_name": "Python [conda root]",
   "language": "python",
   "name": "conda-root-py"
  },
  "language_info": {
   "codemirror_mode": {
    "name": "ipython",
    "version": 3
   },
   "file_extension": ".py",
   "mimetype": "text/x-python",
   "name": "python",
   "nbconvert_exporter": "python",
   "pygments_lexer": "ipython3",
   "version": "3.5.3"
  }
 },
 "nbformat": 4,
 "nbformat_minor": 2
}
