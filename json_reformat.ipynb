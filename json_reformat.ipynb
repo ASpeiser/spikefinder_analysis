{
 "cells": [
  {
   "cell_type": "code",
   "execution_count": 108,
   "metadata": {
    "collapsed": true
   },
   "outputs": [],
   "source": [
    "import csv\n",
    "import json\n",
    "import os\n",
    "import pandas as pd"
   ]
  },
  {
   "cell_type": "markdown",
   "metadata": {},
   "source": [
    "Load json files"
   ]
  },
  {
   "cell_type": "code",
   "execution_count": 100,
   "metadata": {
    "collapsed": false
   },
   "outputs": [],
   "source": [
    "neurofinder_df = pd.read_json('neurofinder-results.json')\n",
    "neurofinder_df.loc[:,'contents'] = neurofinder_df.loc[:,'results']\n",
    "del neurofinder_df['results']\n",
    "\n",
    "spikefinder_df = pd.read_json('spikefinder-results.json')"
   ]
  },
  {
   "cell_type": "markdown",
   "metadata": {},
   "source": [
    "'Flatten' json entries to generate rows for each `algorithm x dataset x result`"
   ]
  },
  {
   "cell_type": "code",
   "execution_count": 115,
   "metadata": {
    "collapsed": false,
    "scrolled": true
   },
   "outputs": [],
   "source": [
    "def reformat_df(df):\n",
    "    out_df = pd.DataFrame(columns=['algo__id', 'algo_contact', 'algo___v', 'algo_timestamp', \n",
    "                                   'algo_repository', 'algo_name', 'algo_algorithm', \n",
    "                                   'dset_dataset', 'dset__id', 'label__id', 'label_label', 'label_value'])\n",
    "\n",
    "    quick_filter = lambda dct, tag, excl: {tag + key:value for key, value in dct.items() if not key in excl}\n",
    "\n",
    "    for algo in spikefinder_df.iterrows():\n",
    "        algo_dict = quick_filter(dict(algo[1]), 'algo_', ['contents',])\n",
    "\n",
    "        for dset in algo[1]['contents']:\n",
    "            dset_dict = quick_filter(dset, 'dset_', ['scores',])\n",
    "\n",
    "            for label in dset['scores']:\n",
    "                label_dict = quick_filter(label, 'label_', [])    \n",
    "\n",
    "                row_dict = {}\n",
    "                row_dict.update(algo_dict)\n",
    "                row_dict.update(dset_dict)\n",
    "                row_dict.update(label_dict)\n",
    "\n",
    "                out_df = pd.concat([out_df, pd.DataFrame.from_dict([row_dict,])])\n",
    "    \n",
    "    out_df = out_df.reset_index()\n",
    "    del out_df['index']\n",
    "    \n",
    "    return out_df"
   ]
  },
  {
   "cell_type": "code",
   "execution_count": 116,
   "metadata": {
    "collapsed": false
   },
   "outputs": [],
   "source": [
    "neurofinder_df_R = reformat_df(neurofinder_df)\n",
    "neurofinder_df_R.to_csv('neurofinder.csv')"
   ]
  },
  {
   "cell_type": "code",
   "execution_count": 117,
   "metadata": {
    "collapsed": true
   },
   "outputs": [],
   "source": [
    "spikefinder_df_R = reformat_df(spikefinder_df)\n",
    "spikefinder_df_R.to_csv('spikefinder.csv')"
   ]
  }
 ],
 "metadata": {
  "kernelspec": {
   "display_name": "Python 3",
   "language": "python",
   "name": "python3"
  },
  "language_info": {
   "codemirror_mode": {
    "name": "ipython",
    "version": 3
   },
   "file_extension": ".py",
   "mimetype": "text/x-python",
   "name": "python",
   "nbconvert_exporter": "python",
   "pygments_lexer": "ipython3",
   "version": "3.4.3"
  }
 },
 "nbformat": 4,
 "nbformat_minor": 1
}
